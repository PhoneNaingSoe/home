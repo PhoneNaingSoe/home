{
  "nbformat": 4,
  "nbformat_minor": 0,
  "metadata": {
    "colab": {
      "name": "Phone.ipynb",
      "provenance": [],
      "authorship_tag": "ABX9TyPTttl8InRoVfixEkbiWzP2",
      "include_colab_link": true
    },
    "kernelspec": {
      "name": "python3",
      "display_name": "Python 3"
    }
  },
  "cells": [
    {
      "cell_type": "markdown",
      "metadata": {
        "id": "view-in-github",
        "colab_type": "text"
      },
      "source": [
        "<a href=\"https://colab.research.google.com/github/PhoneNaingSoe/home/blob/main/Phone.ipynb\" target=\"_parent\"><img src=\"https://colab.research.google.com/assets/colab-badge.svg\" alt=\"Open In Colab\"/></a>"
      ]
    },
    {
      "cell_type": "code",
      "metadata": {
        "id": "GFxO611xovU6"
      },
      "source": [
        "N_var = 12"
      ],
      "execution_count": 1,
      "outputs": []
    },
    {
      "cell_type": "code",
      "metadata": {
        "id": "8W5jpGTGo30d"
      },
      "source": [
        "import numpy as np\r\n",
        "import pandas as pd"
      ],
      "execution_count": 2,
      "outputs": []
    },
    {
      "cell_type": "code",
      "metadata": {
        "id": "F99qXR16o7ZF"
      },
      "source": [
        "A_0 = np.identity(10) * 2 + np.eye(10, 10, k = -1) * -1 + np.eye(10, 10, k = 1) * -1"
      ],
      "execution_count": 3,
      "outputs": []
    },
    {
      "cell_type": "code",
      "metadata": {
        "id": "mKJ6Rxeao_LU"
      },
      "source": [
        "def construct_delta_A(N_var, eps):\r\n",
        "    \"\"\"\r\n",
        "    Алгоритм получения матрицы delta_A\r\n",
        "    Ввод: \r\n",
        "    N_var - номер варианта\r\n",
        "    eps - параметр\r\n",
        "    Вывод:\r\n",
        "    delta_A\r\n",
        "    \"\"\"\r\n",
        "    par = 10\r\n",
        "    delta_A = []\r\n",
        "    c = N_var * eps / (N_var + 1)\r\n",
        "    for i in range(par):\r\n",
        "        temp = []\r\n",
        "        for j in range(par):\r\n",
        "            temp.append(0 if i == j else c / (i + j))\r\n",
        "        delta_A.append(temp)\r\n",
        "    return np.array(delta_A)\r\n"
      ],
      "execution_count": 4,
      "outputs": []
    },
    {
      "cell_type": "code",
      "metadata": {
        "id": "NHvfE3bmpFY7"
      },
      "source": [
        "eps = 0.1"
      ],
      "execution_count": 5,
      "outputs": []
    },
    {
      "cell_type": "code",
      "metadata": {
        "id": "s_9Q5XBhpNvQ"
      },
      "source": [
        "def house(x):\r\n",
        "    u_tilde = np.copy(x)\r\n",
        "    u_tilde[0] += np.sign(x[0]) * np.linalg.norm(x)\r\n",
        "    return u_tilde / np.linalg.norm(u_tilde)\r\n",
        "\r\n",
        "def qr_householder(A):\r\n",
        "    m, n = A.shape\r\n",
        "    Q = np.identity(m)\r\n",
        "    R = np.copy(A)\r\n",
        "    for i in range(n):\r\n",
        "        P_i         = np.identity(m) ## 1\r\n",
        "        x           = R[i:, i] ## 2\r\n",
        "        u           = house(x) ## 3\r\n",
        "        P_streak    = np.identity(m - i) - 2 * np.outer(u, u) ## 4\r\n",
        "        P_i[i:, i:] = np.copy(P_streak) ## 5\r\n",
        "        R           = np.dot(P_i, R) ## 6\r\n",
        "        Q           = Q @ P_i ## 7\r\n",
        "    return Q[:, :n], R[:n, :] ## Обрезаем для матрицы Q (m-n) столбцов, для матрицы R - (m-n) строк\r\n",
        "\r\n",
        "def qr_householder_effective(A):\r\n",
        "    A_temp = np.copy(A)\r\n",
        "    l = []\r\n",
        "    m, n = A.shape\r\n",
        "    for i in range(n):\r\n",
        "        x                  = A_temp[i:, i] \r\n",
        "        u                  = house(x) \r\n",
        "        A_temp[i:m, i:n]  -= 2 * np.outer(u, np.matmul(u, A_temp[i:m, i:n]))\r\n",
        "        A_temp[i + 1:m, i] = u[1:]\r\n",
        "        l.append(u[0])\r\n",
        "    return A_temp, l"
      ],
      "execution_count": 6,
      "outputs": []
    },
    {
      "cell_type": "markdown",
      "metadata": {
        "id": "r6vJwb8TpUkU"
      },
      "source": [
        "Решение задачи"
      ]
    },
    {
      "cell_type": "code",
      "metadata": {
        "id": "uIMkCU9epVok"
      },
      "source": [
        "delta_A = construct_delta_A(N_var, 0.1)\r\n",
        "A = A_0 + delta_A\r\n",
        "\r\n",
        "amnt_columns = 1 # Количество удаляемых столбцов\r\n",
        "A_hat = np.delete(A, [9 - i for i in range(amnt_columns)], axis = 1).round(2)\r\n",
        "x_0 = np.random.rand(10 - amnt_columns) # Выберем случайный вектор x_0\r\n",
        "b = np.dot(A_hat, x_0)\r\n",
        "b_effective = np.copy(b)\r\n",
        "\r\n",
        "Q, R = qr_householder(A_hat)\r\n",
        "A_effective, u_first_elements = qr_householder_effective(A_hat)\r\n",
        "\r\n",
        "for i in range(10 - amnt_columns):\r\n",
        "    u = np.hstack((u_first_elements[i],A_effective[i + 1:, i]))\r\n",
        "    gamma = -2 * np.inner(u, b_effective[i:])\r\n",
        "    b_effective[i:] += gamma * u\r\n",
        "\r\n",
        "assert ((Q @ R - A_hat) < 1e-6).all(), \"QR разложение неправильное\"\r\n",
        "\r\n",
        "x = np.dot(np.linalg.inv(R) @ Q.T, b) # Решаем линейную задачу наименьших квадратов\r\n",
        "x_effective = np.dot(np.linalg.inv(np.triu(A_effective[:-amnt_columns])), b_effective[:-amnt_columns])\r\n",
        "\r\n",
        "value_estimation = np.linalg.norm(x - x_0) / np.linalg.norm(x_0) # Относительная погрешность\r\n",
        "result = (f\"Решение было получено. \\n\"\r\n",
        "          f\"x_0                       = {[round(i, 4) for i in x_0]} \\n\"\r\n",
        "          f\"Найдённое решение x       = {[round(i, 4) for i in x]} \\n\"\r\n",
        "          f\"Эффективное решение x     = {[round(i, 4) for i in x_effective]} \\n\"\r\n",
        "          f\"Относительная погрешность = {value_estimation:.4e}\")"
      ],
      "execution_count": 8,
      "outputs": []
    },
    {
      "cell_type": "code",
      "metadata": {
        "colab": {
          "base_uri": "https://localhost:8080/"
        },
        "id": "70bJK_Y-peT0",
        "outputId": "f40154ac-5189-4481-f7f2-5da4d3ffd2d8"
      },
      "source": [
        "print(result)"
      ],
      "execution_count": 9,
      "outputs": [
        {
          "output_type": "stream",
          "text": [
            "Решение было получено. \n",
            "x_0                       = [0.3578, 0.1683, 0.6659, 0.7232, 0.7658, 0.7811, 0.5504, 0.9158, 0.448] \n",
            "Найдённое решение x       = [0.3578, 0.1683, 0.6659, 0.7232, 0.7658, 0.7811, 0.5504, 0.9158, 0.448] \n",
            "Эффективное решение x     = [0.3578, 0.1683, 0.6659, 0.7232, 0.7658, 0.7811, 0.5504, 0.9158, 0.448] \n",
            "Относительная погрешность = 6.3951e-16\n"
          ],
          "name": "stdout"
        }
      ]
    },
    {
      "cell_type": "code",
      "metadata": {
        "id": "IhKdbXUepvu0"
      },
      "source": [
        "eps = [1e-1, 1e-3, 1e-6]"
      ],
      "execution_count": 10,
      "outputs": []
    }
  ]
}